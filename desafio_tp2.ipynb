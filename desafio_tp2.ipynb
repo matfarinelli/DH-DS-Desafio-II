{
 "cells": [
  {
   "cell_type": "code",
   "execution_count": null,
   "id": "598e51d0",
   "metadata": {},
   "outputs": [
    {
     "data": {
      "text/html": [
       "        <script type=\"text/javascript\">\n",
       "        window.PlotlyConfig = {MathJaxConfig: 'local'};\n",
       "        if (window.MathJax) {MathJax.Hub.Config({SVG: {font: \"STIX-Web\"}});}\n",
       "        if (typeof require !== 'undefined') {\n",
       "        require.undef(\"plotly\");\n",
       "        requirejs.config({\n",
       "            paths: {\n",
       "                'plotly': ['https://cdn.plot.ly/plotly-latest.min']\n",
       "            }\n",
       "        });\n",
       "        require(['plotly'], function(Plotly) {\n",
       "            window._Plotly = Plotly;\n",
       "        });\n",
       "        }\n",
       "        </script>\n",
       "        "
      ]
     },
     "metadata": {},
     "output_type": "display_data"
    }
   ],
   "source": [
    "import numpy as np\n",
    "import pandas as pd\n",
    "import seaborn as sns\n",
    "import matplotlib.pyplot as plt\n",
    "from collections import Counter\n",
    "%matplotlib inline\n",
    "from plotly.offline import download_plotlyjs, init_notebook_mode, plot, iplot\n",
    "import plotly as py\n",
    "import plotly.graph_objs as go\n",
    "init_notebook_mode(connected=True)\n",
    "import warnings\n",
    "\n",
    "warnings.filterwarnings('ignore')"
   ]
  },
  {
   "cell_type": "code",
   "execution_count": null,
   "id": "3afcc3f3",
   "metadata": {},
   "outputs": [
    {
     "data": {
      "text/html": [
       "<div>\n",
       "<style scoped>\n",
       "    .dataframe tbody tr th:only-of-type {\n",
       "        vertical-align: middle;\n",
       "    }\n",
       "\n",
       "    .dataframe tbody tr th {\n",
       "        vertical-align: top;\n",
       "    }\n",
       "\n",
       "    .dataframe thead th {\n",
       "        text-align: right;\n",
       "    }\n",
       "</style>\n",
       "<table border=\"1\" class=\"dataframe\">\n",
       "  <thead>\n",
       "    <tr style=\"text-align: right;\">\n",
       "      <th></th>\n",
       "      <th>place_name</th>\n",
       "      <th>price_usd_per_m2</th>\n",
       "      <th>surface_total_in_m2</th>\n",
       "      <th>lat</th>\n",
       "      <th>lon</th>\n",
       "      <th>floor</th>\n",
       "      <th>rooms</th>\n",
       "      <th>description</th>\n",
       "      <th>title</th>\n",
       "      <th>avenida</th>\n",
       "      <th>...</th>\n",
       "      <th>terraza</th>\n",
       "      <th>lavadero</th>\n",
       "      <th>Belgrano</th>\n",
       "      <th>Nuñez</th>\n",
       "      <th>Palermo</th>\n",
       "      <th>Palermo Hollywood</th>\n",
       "      <th>Recoleta</th>\n",
       "      <th>surface_total_in_m2_2</th>\n",
       "      <th>distancia_obelisco</th>\n",
       "      <th>habitaciones</th>\n",
       "    </tr>\n",
       "  </thead>\n",
       "  <tbody>\n",
       "    <tr>\n",
       "      <th>7</th>\n",
       "      <td>Belgrano</td>\n",
       "      <td>3066.666667</td>\n",
       "      <td>45.0</td>\n",
       "      <td>-34.559873</td>\n",
       "      <td>-58.443362</td>\n",
       "      <td>NaN</td>\n",
       "      <td>1.0</td>\n",
       "      <td>EXCELENTE MONOAMBIENTE A ESTRENAR AMPLIO SUPER...</td>\n",
       "      <td>JOSE HERNANDEZ 1400 MONOAMBIENTE  ESTRENAR CAT...</td>\n",
       "      <td>1</td>\n",
       "      <td>...</td>\n",
       "      <td>1</td>\n",
       "      <td>1</td>\n",
       "      <td>1</td>\n",
       "      <td>0</td>\n",
       "      <td>0</td>\n",
       "      <td>0</td>\n",
       "      <td>0</td>\n",
       "      <td>2025.0</td>\n",
       "      <td>7344.73363</td>\n",
       "      <td>NaN</td>\n",
       "    </tr>\n",
       "    <tr>\n",
       "      <th>8</th>\n",
       "      <td>Belgrano</td>\n",
       "      <td>3000.000000</td>\n",
       "      <td>65.0</td>\n",
       "      <td>-34.559873</td>\n",
       "      <td>-58.443362</td>\n",
       "      <td>NaN</td>\n",
       "      <td>2.0</td>\n",
       "      <td>EXCELENTE DOS AMBIENTES  ESTRENAR AMPLIO SUPER...</td>\n",
       "      <td>JOSE HERNANDEZ   1400 DOS AMBIENTES ESTRENAR ,...</td>\n",
       "      <td>1</td>\n",
       "      <td>...</td>\n",
       "      <td>1</td>\n",
       "      <td>1</td>\n",
       "      <td>1</td>\n",
       "      <td>0</td>\n",
       "      <td>0</td>\n",
       "      <td>0</td>\n",
       "      <td>0</td>\n",
       "      <td>4225.0</td>\n",
       "      <td>7344.73363</td>\n",
       "      <td>NaN</td>\n",
       "    </tr>\n",
       "    <tr>\n",
       "      <th>19</th>\n",
       "      <td>Palermo</td>\n",
       "      <td>3365.384615</td>\n",
       "      <td>104.0</td>\n",
       "      <td>-34.580504</td>\n",
       "      <td>-58.405874</td>\n",
       "      <td>NaN</td>\n",
       "      <td>3.0</td>\n",
       "      <td>Excelente semipiso al contra frente en Bulnes ...</td>\n",
       "      <td>Bulnes y Libertador: espectacular pulmón, con ...</td>\n",
       "      <td>0</td>\n",
       "      <td>...</td>\n",
       "      <td>1</td>\n",
       "      <td>0</td>\n",
       "      <td>0</td>\n",
       "      <td>0</td>\n",
       "      <td>1</td>\n",
       "      <td>0</td>\n",
       "      <td>0</td>\n",
       "      <td>10816.0</td>\n",
       "      <td>3029.00720</td>\n",
       "      <td>NaN</td>\n",
       "    </tr>\n",
       "  </tbody>\n",
       "</table>\n",
       "<p>3 rows × 28 columns</p>\n",
       "</div>"
      ],
      "text/plain": [
       "   place_name  price_usd_per_m2  surface_total_in_m2        lat        lon  \\\n",
       "7    Belgrano       3066.666667                 45.0 -34.559873 -58.443362   \n",
       "8    Belgrano       3000.000000                 65.0 -34.559873 -58.443362   \n",
       "19    Palermo       3365.384615                104.0 -34.580504 -58.405874   \n",
       "\n",
       "    floor  rooms                                        description  \\\n",
       "7     NaN    1.0  EXCELENTE MONOAMBIENTE A ESTRENAR AMPLIO SUPER...   \n",
       "8     NaN    2.0  EXCELENTE DOS AMBIENTES  ESTRENAR AMPLIO SUPER...   \n",
       "19    NaN    3.0  Excelente semipiso al contra frente en Bulnes ...   \n",
       "\n",
       "                                                title  avenida  ...  terraza  \\\n",
       "7   JOSE HERNANDEZ 1400 MONOAMBIENTE  ESTRENAR CAT...        1  ...        1   \n",
       "8   JOSE HERNANDEZ   1400 DOS AMBIENTES ESTRENAR ,...        1  ...        1   \n",
       "19  Bulnes y Libertador: espectacular pulmón, con ...        0  ...        1   \n",
       "\n",
       "    lavadero  Belgrano  Nuñez  Palermo  Palermo Hollywood  Recoleta  \\\n",
       "7          1         1      0        0                  0         0   \n",
       "8          1         1      0        0                  0         0   \n",
       "19         0         0      0        1                  0         0   \n",
       "\n",
       "    surface_total_in_m2_2  distancia_obelisco  habitaciones  \n",
       "7                  2025.0          7344.73363           NaN  \n",
       "8                  4225.0          7344.73363           NaN  \n",
       "19                10816.0          3029.00720           NaN  \n",
       "\n",
       "[3 rows x 28 columns]"
      ]
     },
     "execution_count": 2,
     "metadata": {},
     "output_type": "execute_result"
    }
   ],
   "source": [
    "data_seleccion = pd.read_csv('data_desafio2_final.csv',sep = ',', index_col= 'Unnamed: 0')\n",
    "data_seleccion.head(3)"
   ]
  },
  {
   "cell_type": "code",
   "execution_count": null,
   "id": "1c441c66",
   "metadata": {},
   "outputs": [
    {
     "data": {
      "text/plain": [
       "(3884, 28)"
      ]
     },
     "execution_count": 3,
     "metadata": {},
     "output_type": "execute_result"
    }
   ],
   "source": [
    "data_seleccion.shape"
   ]
  },
  {
   "cell_type": "markdown",
   "id": "f3bd9607",
   "metadata": {},
   "source": [
    "Regresión Lineal Simple"
   ]
  },
  {
   "cell_type": "code",
   "execution_count": null,
   "id": "1bd83898",
   "metadata": {},
   "outputs": [
    {
     "data": {
      "image/png": "[encoded data removed]",
      "text/plain": [
       "<Figure size 640x480 with 1 Axes>"
      ]
     },
     "metadata": {},
     "output_type": "display_data"
    }
   ],
   "source": [
    "sns.regplot(data = data_seleccion, x=\"surface_total_in_m2\", y=\"price_usd_per_m2\", order=1, ci=None, scatter_kws={'color':'r', 's':9})\n",
    "plt.xlim(0,500)\n",
    "plt.ylim(bottom=200);"
   ]
  },
  {
   "cell_type": "code",
   "execution_count": null,
   "id": "4c43e0dc",
   "metadata": {},
   "outputs": [],
   "source": [
    "from sklearn.linear_model import LinearRegression\n",
    "from sklearn import metrics\n",
    "from sklearn.model_selection import train_test_split"
   ]
  },
  {
   "cell_type": "code",
   "execution_count": null,
   "id": "0d6f5c19",
   "metadata": {},
   "outputs": [
    {
     "name": "stdout",
     "output_type": "stream",
     "text": [
      "MAE: 610.2696202176725\n",
      "MSE: 628250.6111307758\n",
      "RMSE: 792.6226158335224\n",
      "R2: -0.0053886639427254135\n"
     ]
    }
   ],
   "source": [
    "#Modelo de regresión simple con la superficie en metros cuadrados como variable explicativa\n",
    "#Utilizamos la librería sklearn\n",
    "\n",
    "feature_cols = ['surface_total_in_m2']\n",
    "X = data_seleccion[feature_cols]\n",
    "y = data_seleccion.price_usd_per_m2\n",
    "\n",
    "X_train, X_test, y_train, y_test = train_test_split(X, y, random_state=1)\n",
    "linreg = LinearRegression()\n",
    "linreg.fit(X_train, y_train)\n",
    "y_pred = linreg.predict(X_test)\n",
    "print('MAE:', metrics.mean_absolute_error(y_test, y_pred))\n",
    "print('MSE:', metrics.mean_squared_error(y_test, y_pred))\n",
    "print('RMSE:', np.sqrt(metrics.mean_squared_error(y_test, y_pred)))\n",
    "print('R2:', metrics.r2_score(y_test, y_pred))"
   ]
  },
  {
   "cell_type": "code",
   "execution_count": null,
   "id": "de7f4e9d",
   "metadata": {},
   "outputs": [],
   "source": [
    "import statsmodels.api as sm"
   ]
  },
  {
   "cell_type": "code",
   "execution_count": null,
   "id": "5aa53dd9",
   "metadata": {},
   "outputs": [
    {
     "name": "stdout",
     "output_type": "stream",
     "text": [
      "                            OLS Regression Results                            \n",
      "==============================================================================\n",
      "Dep. Variable:       price_usd_per_m2   R-squared:                       0.002\n",
      "Model:                            OLS   Adj. R-squared:                  0.002\n",
      "Method:                 Least Squares   F-statistic:                     8.497\n",
      "Date:                Thu, 19 Jan 2023   Prob (F-statistic):            0.00358\n",
      "Time:                        16:46:15   Log-Likelihood:                -31349.\n",
      "No. Observations:                3884   AIC:                         6.270e+04\n",
      "Df Residuals:                    3882   BIC:                         6.272e+04\n",
      "Df Model:                           1                                         \n",
      "Covariance Type:            nonrobust                                         \n",
      "=======================================================================================\n",
      "                          coef    std err          t      P>|t|      [0.025      0.975]\n",
      "---------------------------------------------------------------------------------------\n",
      "const                3028.3347     20.312    149.093      0.000    2988.512    3068.157\n",
      "surface_total_in_m2     0.4885      0.168      2.915      0.004       0.160       0.817\n",
      "==============================================================================\n",
      "Omnibus:                      209.856   Durbin-Watson:                   1.611\n",
      "Prob(Omnibus):                  0.000   Jarque-Bera (JB):              249.354\n",
      "Skew:                           0.569   Prob(JB):                     7.14e-55\n",
      "Kurtosis:                       3.498   Cond. No.                         198.\n",
      "==============================================================================\n",
      "\n",
      "Notes:\n",
      "[1] Standard Errors assume that the covariance matrix of the errors is correctly specified.\n"
     ]
    }
   ],
   "source": [
    "#Corremos el mismo modelo, ahora con la librería statsmodels\n",
    "\n",
    "feature_cols = ['surface_total_in_m2']\n",
    "\n",
    "X = data_seleccion[feature_cols]\n",
    "\n",
    "y = data_seleccion.price_usd_per_m2\n",
    "\n",
    "X = sm.add_constant(X)\n",
    "\n",
    "model = sm.OLS(y, X).fit()\n",
    "print(model.summary())"
   ]
  },
  {
   "cell_type": "markdown",
   "id": "f3db9e9c",
   "metadata": {},
   "source": [
    "Regresión Lineal Múltiple"
   ]
  },
  {
   "cell_type": "code",
   "execution_count": null,
   "id": "8320b4ed",
   "metadata": {},
   "outputs": [
    {
     "data": {
      "image/png": "[encoded data removed]",
      "text/plain": [
       "<Figure size 640x480 with 2 Axes>"
      ]
     },
     "metadata": {},
     "output_type": "display_data"
    }
   ],
   "source": [
    "#Analizamos la correlación que existe entre algunas de las variables\n",
    "columnas_correlacion= ['price_usd_per_m2','surface_total_in_m2','rooms','distancia_obelisco','gimnasio','pileta','patio']\n",
    "data_correlacion=data_seleccion[columnas_correlacion]\n",
    "data_correlacion.rename(columns={'price_usd_per_m2':'precio','surface_total_in_m2':'superficie','distancia_obelisco':'dist_obelisco'},inplace=True)\n",
    "sns.heatmap(data_correlacion.corr(), annot=True, vmin=-1, cmap='Blues');"
   ]
  },
  {
   "cell_type": "code",
   "execution_count": null,
   "id": "43ae3463",
   "metadata": {},
   "outputs": [
    {
     "name": "stdout",
     "output_type": "stream",
     "text": [
      "                            OLS Regression Results                            \n",
      "==============================================================================\n",
      "Dep. Variable:       price_usd_per_m2   R-squared:                       0.334\n",
      "Model:                            OLS   Adj. R-squared:                  0.330\n",
      "Method:                 Least Squares   F-statistic:                     96.66\n",
      "Date:                Thu, 19 Jan 2023   Prob (F-statistic):          2.31e-321\n",
      "Time:                        16:46:17   Log-Likelihood:                -30566.\n",
      "No. Observations:                3884   AIC:                         6.117e+04\n",
      "Df Residuals:                    3863   BIC:                         6.130e+04\n",
      "Df Model:                          20                                         \n",
      "Covariance Type:            nonrobust                                         \n",
      "=======================================================================================\n",
      "                          coef    std err          t      P>|t|      [0.025      0.975]\n",
      "---------------------------------------------------------------------------------------\n",
      "const                2.058e+06   2.49e+05      8.252      0.000    1.57e+06    2.55e+06\n",
      "surface_total_in_m2    -0.8712      0.230     -3.782      0.000      -1.323      -0.420\n",
      "rooms                   1.0579     11.508      0.092      0.927     -21.504      23.619\n",
      "distancia_obelisco     -0.0176      0.042     -0.414      0.679      -0.101       0.066\n",
      "lat                  2.896e+04   1573.857     18.404      0.000    2.59e+04    3.21e+04\n",
      "lon                  1.803e+04   4186.205      4.306      0.000    9819.906    2.62e+04\n",
      "avenida               -71.1103     23.851     -2.981      0.003    -117.872     -24.349\n",
      "balcon                103.6882     21.894      4.736      0.000      60.763     146.614\n",
      "gimnasio              485.4858     35.721     13.591      0.000     415.451     555.521\n",
      "SUM                   -21.8920     33.513     -0.653      0.514     -87.596      43.812\n",
      "cochera               287.9764     23.725     12.138      0.000     241.462     334.490\n",
      "parrilla              -33.2349     29.950     -1.110      0.267     -91.954      25.485\n",
      "pileta                508.6739     32.963     15.431      0.000     444.047     573.301\n",
      "patio                -253.1274     28.250     -8.960      0.000    -308.513    -197.742\n",
      "terraza              -149.9203     25.190     -5.952      0.000    -199.308    -100.533\n",
      "lavadero              -10.9300     23.234     -0.470      0.638     -56.482      34.622\n",
      "Belgrano              138.3296     74.713      1.851      0.064      -8.151     284.810\n",
      "Palermo               207.0054     43.171      4.795      0.000     122.365     291.645\n",
      "Nuñez                -147.5547    101.297     -1.457      0.145    -346.155      51.046\n",
      "Palermo Hollywood     430.1094     72.109      5.965      0.000     288.734     571.485\n",
      "Recoleta              178.7544     35.836      4.988      0.000     108.495     249.014\n",
      "==============================================================================\n",
      "Omnibus:                      222.303   Durbin-Watson:                   1.675\n",
      "Prob(Omnibus):                  0.000   Jarque-Bera (JB):              336.553\n",
      "Skew:                           0.487   Prob(JB):                     8.29e-74\n",
      "Kurtosis:                       4.063   Cond. No.                     1.48e+08\n",
      "==============================================================================\n",
      "\n",
      "Notes:\n",
      "[1] Standard Errors assume that the covariance matrix of the errors is correctly specified.\n",
      "[2] The condition number is large, 1.48e+08. This might indicate that there are\n",
      "strong multicollinearity or other numerical problems.\n"
     ]
    }
   ],
   "source": [
    "#Modelo de regresión múltiple con statsmodels\n",
    "\n",
    "feature_cols = ['surface_total_in_m2','rooms','distancia_obelisco','lat','lon','avenida','balcon','gimnasio','SUM','cochera','parrilla','pileta','patio','terraza','lavadero','Belgrano','Palermo','Nuñez','Palermo Hollywood','Recoleta']\n",
    "\n",
    "X = data_seleccion[feature_cols]\n",
    "\n",
    "y = data_seleccion.price_usd_per_m2\n",
    "\n",
    "X = sm.add_constant(X)\n",
    "\n",
    "model = sm.OLS(y, X).fit()\n",
    "print(model.summary())\n",
    "\n",
    "##"
   ]
  },
  {
   "cell_type": "code",
   "execution_count": null,
   "id": "19e50c92",
   "metadata": {},
   "outputs": [
    {
     "name": "stdout",
     "output_type": "stream",
     "text": [
      "MAE: 506.77636423869956\n",
      "MSE: 426306.5979076797\n",
      "RMSE: 652.9215863391864\n",
      "R2: 0.31778208678709396\n"
     ]
    }
   ],
   "source": [
    "#Modelo de regresión múltiple con sklearn\n",
    "\n",
    "feature_cols = ['surface_total_in_m2','rooms','distancia_obelisco','lat','lon','avenida','balcon','gimnasio','SUM','cochera','parrilla','pileta','patio','terraza','lavadero','Belgrano','Palermo','Nuñez','Palermo Hollywood','Recoleta']\n",
    "X = data_seleccion[feature_cols]\n",
    "y = data_seleccion.price_usd_per_m2\n",
    "    # Como estamos trabajando con observaciones ordenadas en el tiempo, ponemos\n",
    "    # shuffle=False para evitar data leakage\n",
    "X_train, X_test, y_train, y_test = train_test_split(X, y, random_state=1)\n",
    "linreg = LinearRegression()\n",
    "linreg.fit(X_train, y_train)\n",
    "y_pred = linreg.predict(X_test)\n",
    "print('MAE:', metrics.mean_absolute_error(y_test, y_pred))\n",
    "print('MSE:', metrics.mean_squared_error(y_test, y_pred))\n",
    "print('RMSE:', np.sqrt(metrics.mean_squared_error(y_test, y_pred)))\n",
    "print('R2:', metrics.r2_score(y_test, y_pred))"
   ]
  },
  {
   "cell_type": "markdown",
   "id": "9df8f228",
   "metadata": {},
   "source": [
    "Regularización"
   ]
  },
  {
   "cell_type": "code",
   "execution_count": null,
   "id": "1b5c7e29",
   "metadata": {},
   "outputs": [],
   "source": [
    "from sklearn.linear_model import RidgeCV"
   ]
  },
  {
   "cell_type": "code",
   "execution_count": null,
   "id": "51ac7ea3",
   "metadata": {},
   "outputs": [],
   "source": [
    "#Normalizamos las features continuas previo a regularizar nuestro modelo\n",
    "from sklearn import preprocessing"
   ]
  },
  {
   "cell_type": "code",
   "execution_count": null,
   "id": "423423ca",
   "metadata": {},
   "outputs": [],
   "source": [
    "#Seleccionamos las variables continuas para luego normalizarlas\n",
    "data_seleccion_L1 = data_seleccion.loc[:,['price_usd_per_m2',\"surface_total_in_m2\",\"rooms\",\"distancia_obelisco\",\"lat\",\"lon\"]]"
   ]
  },
  {
   "cell_type": "code",
   "execution_count": null,
   "id": "67feb3df",
   "metadata": {},
   "outputs": [],
   "source": [
    "data_seleccion_L1 = preprocessing.normalize(data_seleccion_L1, norm='l1', axis=0)"
   ]
  },
  {
   "cell_type": "code",
   "execution_count": null,
   "id": "947666a0",
   "metadata": {},
   "outputs": [
    {
     "data": {
      "text/plain": [
       "array([[ 2.56756006e-04,  1.20890398e-04,  8.88494003e-05,\n",
       "         3.62379977e-04, -2.57327571e-04, -2.57543081e-04],\n",
       "       [ 2.51174354e-04,  1.74619464e-04,  1.77698801e-04,\n",
       "         3.62379977e-04, -2.57327571e-04, -2.57543081e-04],\n",
       "       [ 2.81766102e-04,  2.79391142e-04,  2.66548201e-04,\n",
       "         1.49447429e-04, -2.57481184e-04, -2.57377885e-04],\n",
       "       ...,\n",
       "       [ 1.70336631e-04,  7.79071454e-05,  8.88494003e-05,\n",
       "         9.73560234e-05, -2.57604996e-04, -2.57347338e-04],\n",
       "       [ 2.40801372e-04,  3.03569222e-04,  3.55397601e-04,\n",
       "         9.55663039e-05, -2.57556571e-04, -2.57341154e-04],\n",
       "       [ 3.13967943e-04,  1.18203945e-04,  8.88494003e-05,\n",
       "         9.87800345e-05, -2.57532723e-04, -2.57340418e-04]])"
      ]
     },
     "execution_count": 17,
     "metadata": {},
     "output_type": "execute_result"
    }
   ],
   "source": [
    "data_seleccion_L1"
   ]
  },
  {
   "cell_type": "code",
   "execution_count": null,
   "id": "da58ba2a",
   "metadata": {},
   "outputs": [],
   "source": [
    "#Creamos un dataframe con base en el array de las variables estandarizadas\n",
    "data_L1 = pd.DataFrame(data_seleccion_L1, index=data_seleccion.index, columns=['price_usd_per_m2',\"surface_total_in_m2\",\"rooms\",\"distancia_obelisco\",\"lat\",\"lon\"])"
   ]
  },
  {
   "cell_type": "code",
   "execution_count": null,
   "id": "f396a7f1",
   "metadata": {},
   "outputs": [
    {
     "data": {
      "text/html": [
       "<div>\n",
       "<style scoped>\n",
       "    .dataframe tbody tr th:only-of-type {\n",
       "        vertical-align: middle;\n",
       "    }\n",
       "\n",
       "    .dataframe tbody tr th {\n",
       "        vertical-align: top;\n",
       "    }\n",
       "\n",
       "    .dataframe thead th {\n",
       "        text-align: right;\n",
       "    }\n",
       "</style>\n",
       "<table border=\"1\" class=\"dataframe\">\n",
       "  <thead>\n",
       "    <tr style=\"text-align: right;\">\n",
       "      <th></th>\n",
       "      <th>price_usd_per_m2</th>\n",
       "      <th>surface_total_in_m2</th>\n",
       "      <th>rooms</th>\n",
       "      <th>distancia_obelisco</th>\n",
       "      <th>lat</th>\n",
       "      <th>lon</th>\n",
       "    </tr>\n",
       "  </thead>\n",
       "  <tbody>\n",
       "    <tr>\n",
       "      <th>7</th>\n",
       "      <td>0.000257</td>\n",
       "      <td>0.000121</td>\n",
       "      <td>0.000089</td>\n",
       "      <td>0.000362</td>\n",
       "      <td>-0.000257</td>\n",
       "      <td>-0.000258</td>\n",
       "    </tr>\n",
       "    <tr>\n",
       "      <th>8</th>\n",
       "      <td>0.000251</td>\n",
       "      <td>0.000175</td>\n",
       "      <td>0.000178</td>\n",
       "      <td>0.000362</td>\n",
       "      <td>-0.000257</td>\n",
       "      <td>-0.000258</td>\n",
       "    </tr>\n",
       "    <tr>\n",
       "      <th>19</th>\n",
       "      <td>0.000282</td>\n",
       "      <td>0.000279</td>\n",
       "      <td>0.000267</td>\n",
       "      <td>0.000149</td>\n",
       "      <td>-0.000257</td>\n",
       "      <td>-0.000257</td>\n",
       "    </tr>\n",
       "  </tbody>\n",
       "</table>\n",
       "</div>"
      ],
      "text/plain": [
       "    price_usd_per_m2  surface_total_in_m2     rooms  distancia_obelisco  \\\n",
       "7           0.000257             0.000121  0.000089            0.000362   \n",
       "8           0.000251             0.000175  0.000178            0.000362   \n",
       "19          0.000282             0.000279  0.000267            0.000149   \n",
       "\n",
       "         lat       lon  \n",
       "7  -0.000257 -0.000258  \n",
       "8  -0.000257 -0.000258  \n",
       "19 -0.000257 -0.000257  "
      ]
     },
     "execution_count": 19,
     "metadata": {},
     "output_type": "execute_result"
    }
   ],
   "source": [
    "data_L1.head(3)"
   ]
  },
  {
   "cell_type": "code",
   "execution_count": null,
   "id": "d5d092f8",
   "metadata": {},
   "outputs": [],
   "source": [
    "#Guardamos las variables dicotómicas en otro dataframe para mergear con las continuas\n",
    "data_seleccion_dummys = data_seleccion.loc[:,['avenida','balcon','gimnasio','SUM','cochera','parrilla','pileta','patio','terraza','lavadero','Belgrano','Palermo','Nuñez','Palermo Hollywood','Recoleta']]"
   ]
  },
  {
   "cell_type": "code",
   "execution_count": null,
   "id": "17fd9b1d",
   "metadata": {},
   "outputs": [],
   "source": [
    "data_seleccion_normalized=pd.concat([data_L1,data_seleccion_dummys], axis=1)"
   ]
  },
  {
   "cell_type": "code",
   "execution_count": null,
   "id": "335d87d7",
   "metadata": {},
   "outputs": [
    {
     "data": {
      "text/html": [
       "<div>\n",
       "<style scoped>\n",
       "    .dataframe tbody tr th:only-of-type {\n",
       "        vertical-align: middle;\n",
       "    }\n",
       "\n",
       "    .dataframe tbody tr th {\n",
       "        vertical-align: top;\n",
       "    }\n",
       "\n",
       "    .dataframe thead th {\n",
       "        text-align: right;\n",
       "    }\n",
       "</style>\n",
       "<table border=\"1\" class=\"dataframe\">\n",
       "  <thead>\n",
       "    <tr style=\"text-align: right;\">\n",
       "      <th></th>\n",
       "      <th>price_usd_per_m2</th>\n",
       "      <th>surface_total_in_m2</th>\n",
       "      <th>rooms</th>\n",
       "      <th>distancia_obelisco</th>\n",
       "      <th>lat</th>\n",
       "      <th>lon</th>\n",
       "      <th>avenida</th>\n",
       "      <th>balcon</th>\n",
       "      <th>gimnasio</th>\n",
       "      <th>SUM</th>\n",
       "      <th>...</th>\n",
       "      <th>parrilla</th>\n",
       "      <th>pileta</th>\n",
       "      <th>patio</th>\n",
       "      <th>terraza</th>\n",
       "      <th>lavadero</th>\n",
       "      <th>Belgrano</th>\n",
       "      <th>Palermo</th>\n",
       "      <th>Nuñez</th>\n",
       "      <th>Palermo Hollywood</th>\n",
       "      <th>Recoleta</th>\n",
       "    </tr>\n",
       "  </thead>\n",
       "  <tbody>\n",
       "    <tr>\n",
       "      <th>7</th>\n",
       "      <td>0.000257</td>\n",
       "      <td>0.000121</td>\n",
       "      <td>0.000089</td>\n",
       "      <td>0.000362</td>\n",
       "      <td>-0.000257</td>\n",
       "      <td>-0.000258</td>\n",
       "      <td>1</td>\n",
       "      <td>0</td>\n",
       "      <td>0</td>\n",
       "      <td>0</td>\n",
       "      <td>...</td>\n",
       "      <td>0</td>\n",
       "      <td>1</td>\n",
       "      <td>0</td>\n",
       "      <td>1</td>\n",
       "      <td>1</td>\n",
       "      <td>1</td>\n",
       "      <td>0</td>\n",
       "      <td>0</td>\n",
       "      <td>0</td>\n",
       "      <td>0</td>\n",
       "    </tr>\n",
       "    <tr>\n",
       "      <th>8</th>\n",
       "      <td>0.000251</td>\n",
       "      <td>0.000175</td>\n",
       "      <td>0.000178</td>\n",
       "      <td>0.000362</td>\n",
       "      <td>-0.000257</td>\n",
       "      <td>-0.000258</td>\n",
       "      <td>1</td>\n",
       "      <td>0</td>\n",
       "      <td>0</td>\n",
       "      <td>0</td>\n",
       "      <td>...</td>\n",
       "      <td>0</td>\n",
       "      <td>1</td>\n",
       "      <td>0</td>\n",
       "      <td>1</td>\n",
       "      <td>1</td>\n",
       "      <td>1</td>\n",
       "      <td>0</td>\n",
       "      <td>0</td>\n",
       "      <td>0</td>\n",
       "      <td>0</td>\n",
       "    </tr>\n",
       "    <tr>\n",
       "      <th>19</th>\n",
       "      <td>0.000282</td>\n",
       "      <td>0.000279</td>\n",
       "      <td>0.000267</td>\n",
       "      <td>0.000149</td>\n",
       "      <td>-0.000257</td>\n",
       "      <td>-0.000257</td>\n",
       "      <td>0</td>\n",
       "      <td>1</td>\n",
       "      <td>0</td>\n",
       "      <td>0</td>\n",
       "      <td>...</td>\n",
       "      <td>0</td>\n",
       "      <td>0</td>\n",
       "      <td>0</td>\n",
       "      <td>1</td>\n",
       "      <td>0</td>\n",
       "      <td>0</td>\n",
       "      <td>1</td>\n",
       "      <td>0</td>\n",
       "      <td>0</td>\n",
       "      <td>0</td>\n",
       "    </tr>\n",
       "    <tr>\n",
       "      <th>21</th>\n",
       "      <td>0.000192</td>\n",
       "      <td>0.000317</td>\n",
       "      <td>0.000355</td>\n",
       "      <td>0.000169</td>\n",
       "      <td>-0.000258</td>\n",
       "      <td>-0.000257</td>\n",
       "      <td>1</td>\n",
       "      <td>0</td>\n",
       "      <td>0</td>\n",
       "      <td>0</td>\n",
       "      <td>...</td>\n",
       "      <td>0</td>\n",
       "      <td>0</td>\n",
       "      <td>1</td>\n",
       "      <td>0</td>\n",
       "      <td>0</td>\n",
       "      <td>0</td>\n",
       "      <td>1</td>\n",
       "      <td>0</td>\n",
       "      <td>0</td>\n",
       "      <td>0</td>\n",
       "    </tr>\n",
       "    <tr>\n",
       "      <th>60</th>\n",
       "      <td>0.000290</td>\n",
       "      <td>0.000134</td>\n",
       "      <td>0.000178</td>\n",
       "      <td>0.000431</td>\n",
       "      <td>-0.000257</td>\n",
       "      <td>-0.000258</td>\n",
       "      <td>1</td>\n",
       "      <td>1</td>\n",
       "      <td>0</td>\n",
       "      <td>1</td>\n",
       "      <td>...</td>\n",
       "      <td>0</td>\n",
       "      <td>1</td>\n",
       "      <td>0</td>\n",
       "      <td>1</td>\n",
       "      <td>0</td>\n",
       "      <td>0</td>\n",
       "      <td>0</td>\n",
       "      <td>1</td>\n",
       "      <td>0</td>\n",
       "      <td>0</td>\n",
       "    </tr>\n",
       "  </tbody>\n",
       "</table>\n",
       "<p>5 rows × 21 columns</p>\n",
       "</div>"
      ],
      "text/plain": [
       "    price_usd_per_m2  surface_total_in_m2     rooms  distancia_obelisco  \\\n",
       "7           0.000257             0.000121  0.000089            0.000362   \n",
       "8           0.000251             0.000175  0.000178            0.000362   \n",
       "19          0.000282             0.000279  0.000267            0.000149   \n",
       "21          0.000192             0.000317  0.000355            0.000169   \n",
       "60          0.000290             0.000134  0.000178            0.000431   \n",
       "\n",
       "         lat       lon  avenida  balcon  gimnasio  SUM  ...  parrilla  pileta  \\\n",
       "7  -0.000257 -0.000258        1       0         0    0  ...         0       1   \n",
       "8  -0.000257 -0.000258        1       0         0    0  ...         0       1   \n",
       "19 -0.000257 -0.000257        0       1         0    0  ...         0       0   \n",
       "21 -0.000258 -0.000257        1       0         0    0  ...         0       0   \n",
       "60 -0.000257 -0.000258        1       1         0    1  ...         0       1   \n",
       "\n",
       "    patio  terraza  lavadero  Belgrano  Palermo  Nuñez  Palermo Hollywood  \\\n",
       "7       0        1         1         1        0      0                  0   \n",
       "8       0        1         1         1        0      0                  0   \n",
       "19      0        1         0         0        1      0                  0   \n",
       "21      1        0         0         0        1      0                  0   \n",
       "60      0        1         0         0        0      1                  0   \n",
       "\n",
       "    Recoleta  \n",
       "7          0  \n",
       "8          0  \n",
       "19         0  \n",
       "21         0  \n",
       "60         0  \n",
       "\n",
       "[5 rows x 21 columns]"
      ]
     },
     "execution_count": 22,
     "metadata": {},
     "output_type": "execute_result"
    }
   ],
   "source": [
    "data_seleccion_normalized.head()"
   ]
  },
  {
   "cell_type": "code",
   "execution_count": null,
   "id": "2dff0d42",
   "metadata": {},
   "outputs": [
    {
     "name": "stdout",
     "output_type": "stream",
     "text": [
      "MAE: 4.2429741999919904e-05\n",
      "MSE: 2.9883408619683848e-09\n",
      "RMSE: 5.4665719257761395e-05\n",
      "R2: 0.3177820868033866\n"
     ]
    }
   ],
   "source": [
    "#Volvemos a correr nuestro modelo en sklearn, ahora con el dataset con las variables normalizadas\n",
    "\n",
    "feature_cols = ['surface_total_in_m2','distancia_obelisco',\"rooms\",'lat','lon','avenida','balcon','gimnasio','SUM','cochera','parrilla','pileta','patio','terraza','lavadero','Belgrano','Palermo','Nuñez','Palermo Hollywood','Recoleta']\n",
    "X = data_seleccion_normalized[feature_cols]\n",
    "y = data_seleccion_normalized.price_usd_per_m2\n",
    "    # Como estamos trabajando con observaciones ordenadas en el tiempo, ponemos\n",
    "    # shuffle=False para evitar data leakage\n",
    "X_train, X_test, y_train, y_test = train_test_split(X, y, random_state=1)\n",
    "linreg = LinearRegression()\n",
    "linreg.fit(X_train, y_train)\n",
    "y_pred = linreg.predict(X_test)\n",
    "print('MAE:', metrics.mean_absolute_error(y_test, y_pred))\n",
    "print('MSE:', metrics.mean_squared_error(y_test, y_pred))\n",
    "print('RMSE:', np.sqrt(metrics.mean_squared_error(y_test, y_pred)))\n",
    "print('R2:', metrics.r2_score(y_test, y_pred))"
   ]
  },
  {
   "cell_type": "code",
   "execution_count": null,
   "id": "1458a2e6",
   "metadata": {},
   "outputs": [
    {
     "name": "stdout",
     "output_type": "stream",
     "text": [
      "Score model_Ridge: 0.29415948535853376\n",
      "alpha: 0.1\n"
     ]
    }
   ],
   "source": [
    "# Ajustamos el modelo usando aplicando regularización con distintos valores de penalización\n",
    "\n",
    "lm_ridge = RidgeCV(alphas=[0.1,0.5,1,5,10], normalize=True) \n",
    "# Definimos el rango de de búsqueda del hiperparametro explicitamente\n",
    "\n",
    "model_2 = lm_ridge.fit(X_train, y_train)\n",
    "\n",
    "print('Score model_Ridge:', model_2.score(X_test, y_test))\n",
    "print (\"alpha:\", lm_ridge.alpha_)"
   ]
  }
 ],
 "metadata": {
  "kernelspec": {
   "display_name": "dhdsblend2021",
   "language": "python",
   "name": "python3"
  },
  "language_info": {
   "codemirror_mode": {
    "name": "ipython",
    "version": 3
   },
   "file_extension": ".py",
   "mimetype": "text/x-python",
   "name": "python",
   "nbconvert_exporter": "python",
   "pygments_lexer": "ipython3",
   "version": "3.8.13 (default, Mar 28 2022, 06:59:08) [MSC v.1916 64 bit (AMD64)]"
  },
  "vscode": {
   "interpreter": {
    "hash": "d0c48e0326c6c4056e4b4eb85894922d97351fe3ceca175dabbe7210b9ffcd7d"
   }
  }
 },
 "nbformat": 4,
 "nbformat_minor": 5
}
