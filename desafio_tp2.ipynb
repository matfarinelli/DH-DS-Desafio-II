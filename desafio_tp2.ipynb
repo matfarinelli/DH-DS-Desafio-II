{
 "cells": [
  {
   "cell_type": "code",
   "execution_count": 1,
   "id": "6db5ecd2",
   "metadata": {},
   "outputs": [
    {
     "data": {
      "text/html": [
       "        <script type=\"text/javascript\">\n",
       "        window.PlotlyConfig = {MathJaxConfig: 'local'};\n",
       "        if (window.MathJax) {MathJax.Hub.Config({SVG: {font: \"STIX-Web\"}});}\n",
       "        if (typeof require !== 'undefined') {\n",
       "        require.undef(\"plotly\");\n",
       "        requirejs.config({\n",
       "            paths: {\n",
       "                'plotly': ['https://cdn.plot.ly/plotly-latest.min']\n",
       "            }\n",
       "        });\n",
       "        require(['plotly'], function(Plotly) {\n",
       "            window._Plotly = Plotly;\n",
       "        });\n",
       "        }\n",
       "        </script>\n",
       "        "
      ]
     },
     "metadata": {},
     "output_type": "display_data"
    }
   ],
   "source": [
    "import numpy as np # linear algebra\n",
    "import pandas as pd # data processing, CSV file I/O (e.g. pd.read_csv)\n",
    "import seaborn as sns\n",
    "import matplotlib.pyplot as plt\n",
    "from collections import Counter\n",
    "%matplotlib inline\n",
    "from plotly.offline import download_plotlyjs, init_notebook_mode, plot, iplot\n",
    "import plotly as py\n",
    "import plotly.graph_objs as go\n",
    "init_notebook_mode(connected=True) #do not miss this line\n",
    "import warnings\n",
    "\n",
    "warnings.filterwarnings('ignore')"
   ]
  },
  {
   "cell_type": "code",
   "execution_count": 2,
   "id": "c4ff45f4",
   "metadata": {},
   "outputs": [
    {
     "data": {
      "text/html": [
       "<div>\n",
       "<style scoped>\n",
       "    .dataframe tbody tr th:only-of-type {\n",
       "        vertical-align: middle;\n",
       "    }\n",
       "\n",
       "    .dataframe tbody tr th {\n",
       "        vertical-align: top;\n",
       "    }\n",
       "\n",
       "    .dataframe thead th {\n",
       "        text-align: right;\n",
       "    }\n",
       "</style>\n",
       "<table border=\"1\" class=\"dataframe\">\n",
       "  <thead>\n",
       "    <tr style=\"text-align: right;\">\n",
       "      <th></th>\n",
       "      <th>place_name</th>\n",
       "      <th>price_usd_per_m2</th>\n",
       "      <th>surface_total_in_m2</th>\n",
       "      <th>lat</th>\n",
       "      <th>lon</th>\n",
       "      <th>floor</th>\n",
       "      <th>rooms</th>\n",
       "      <th>description</th>\n",
       "      <th>title</th>\n",
       "      <th>avenida</th>\n",
       "      <th>...</th>\n",
       "      <th>lavadero</th>\n",
       "      <th>Belgrano</th>\n",
       "      <th>Nuñez</th>\n",
       "      <th>Palermo</th>\n",
       "      <th>Palermo Hollywood</th>\n",
       "      <th>Recoleta</th>\n",
       "      <th>surface_total_in_m2_2</th>\n",
       "      <th>distancia</th>\n",
       "      <th>ambientes</th>\n",
       "      <th>habitaciones</th>\n",
       "    </tr>\n",
       "  </thead>\n",
       "  <tbody>\n",
       "    <tr>\n",
       "      <th>7</th>\n",
       "      <td>Belgrano</td>\n",
       "      <td>3066.666667</td>\n",
       "      <td>45.0</td>\n",
       "      <td>-34.559873</td>\n",
       "      <td>-58.443362</td>\n",
       "      <td>NaN</td>\n",
       "      <td>NaN</td>\n",
       "      <td>EXCELENTE MONOAMBIENTE A ESTRENAR AMPLIO SUPER...</td>\n",
       "      <td>JOSE HERNANDEZ 1400 MONOAMBIENTE  ESTRENAR CAT...</td>\n",
       "      <td>1</td>\n",
       "      <td>...</td>\n",
       "      <td>1</td>\n",
       "      <td>1</td>\n",
       "      <td>0</td>\n",
       "      <td>0</td>\n",
       "      <td>0</td>\n",
       "      <td>0</td>\n",
       "      <td>2025.0</td>\n",
       "      <td>7.344734</td>\n",
       "      <td>NaN</td>\n",
       "      <td>NaN</td>\n",
       "    </tr>\n",
       "    <tr>\n",
       "      <th>8</th>\n",
       "      <td>Belgrano</td>\n",
       "      <td>3000.000000</td>\n",
       "      <td>65.0</td>\n",
       "      <td>-34.559873</td>\n",
       "      <td>-58.443362</td>\n",
       "      <td>NaN</td>\n",
       "      <td>NaN</td>\n",
       "      <td>EXCELENTE DOS AMBIENTES  ESTRENAR AMPLIO SUPER...</td>\n",
       "      <td>JOSE HERNANDEZ   1400 DOS AMBIENTES ESTRENAR ,...</td>\n",
       "      <td>1</td>\n",
       "      <td>...</td>\n",
       "      <td>1</td>\n",
       "      <td>1</td>\n",
       "      <td>0</td>\n",
       "      <td>0</td>\n",
       "      <td>0</td>\n",
       "      <td>0</td>\n",
       "      <td>4225.0</td>\n",
       "      <td>7.344734</td>\n",
       "      <td>NaN</td>\n",
       "      <td>NaN</td>\n",
       "    </tr>\n",
       "    <tr>\n",
       "      <th>19</th>\n",
       "      <td>Palermo</td>\n",
       "      <td>3365.384615</td>\n",
       "      <td>104.0</td>\n",
       "      <td>-34.580504</td>\n",
       "      <td>-58.405874</td>\n",
       "      <td>NaN</td>\n",
       "      <td>3.0</td>\n",
       "      <td>Excelente semipiso al contra frente en Bulnes ...</td>\n",
       "      <td>Bulnes y Libertador: espectacular pulmón, con ...</td>\n",
       "      <td>0</td>\n",
       "      <td>...</td>\n",
       "      <td>0</td>\n",
       "      <td>0</td>\n",
       "      <td>0</td>\n",
       "      <td>1</td>\n",
       "      <td>0</td>\n",
       "      <td>0</td>\n",
       "      <td>10816.0</td>\n",
       "      <td>3.029007</td>\n",
       "      <td>NaN</td>\n",
       "      <td>NaN</td>\n",
       "    </tr>\n",
       "  </tbody>\n",
       "</table>\n",
       "<p>3 rows × 29 columns</p>\n",
       "</div>"
      ],
      "text/plain": [
       "   place_name  price_usd_per_m2  surface_total_in_m2        lat        lon  \\\n",
       "7    Belgrano       3066.666667                 45.0 -34.559873 -58.443362   \n",
       "8    Belgrano       3000.000000                 65.0 -34.559873 -58.443362   \n",
       "19    Palermo       3365.384615                104.0 -34.580504 -58.405874   \n",
       "\n",
       "    floor  rooms                                        description  \\\n",
       "7     NaN    NaN  EXCELENTE MONOAMBIENTE A ESTRENAR AMPLIO SUPER...   \n",
       "8     NaN    NaN  EXCELENTE DOS AMBIENTES  ESTRENAR AMPLIO SUPER...   \n",
       "19    NaN    3.0  Excelente semipiso al contra frente en Bulnes ...   \n",
       "\n",
       "                                                title  avenida  ...  lavadero  \\\n",
       "7   JOSE HERNANDEZ 1400 MONOAMBIENTE  ESTRENAR CAT...        1  ...         1   \n",
       "8   JOSE HERNANDEZ   1400 DOS AMBIENTES ESTRENAR ,...        1  ...         1   \n",
       "19  Bulnes y Libertador: espectacular pulmón, con ...        0  ...         0   \n",
       "\n",
       "    Belgrano  Nuñez  Palermo  Palermo Hollywood  Recoleta  \\\n",
       "7          1      0        0                  0         0   \n",
       "8          1      0        0                  0         0   \n",
       "19         0      0        1                  0         0   \n",
       "\n",
       "    surface_total_in_m2_2  distancia  ambientes  habitaciones  \n",
       "7                  2025.0   7.344734        NaN           NaN  \n",
       "8                  4225.0   7.344734        NaN           NaN  \n",
       "19                10816.0   3.029007        NaN           NaN  \n",
       "\n",
       "[3 rows x 29 columns]"
      ]
     },
     "execution_count": 2,
     "metadata": {},
     "output_type": "execute_result"
    }
   ],
   "source": [
    "data = pd.read_csv('data.csv',sep = ',', index_col= 'Unnamed: 0')\n",
    "data.head(3)"
   ]
  },
  {
   "cell_type": "code",
   "execution_count": 3,
   "id": "5ac4a099",
   "metadata": {},
   "outputs": [
    {
     "data": {
      "text/plain": [
       "(4688, 29)"
      ]
     },
     "execution_count": 3,
     "metadata": {},
     "output_type": "execute_result"
    }
   ],
   "source": [
    "data.shape"
   ]
  },
  {
   "cell_type": "code",
   "execution_count": 4,
   "id": "4c23b104",
   "metadata": {},
   "outputs": [],
   "source": [
    "from sklearn.linear_model import LinearRegression\n",
    "from sklearn import metrics\n",
    "from sklearn.model_selection import train_test_split"
   ]
  },
  {
   "cell_type": "code",
   "execution_count": 5,
   "id": "11abef6e",
   "metadata": {},
   "outputs": [],
   "source": [
    "# Definimos una función que acepta una lista de features, hace el split entre train y test,\n",
    "# reservando un 25% de las observaciones para testeo, y devuelve la prueba RMSE.\n",
    "\n",
    "def train_test_rmse(feature_cols):\n",
    "    X = data[feature_cols]\n",
    "    y = data.price_usd_per_m2\n",
    "    # Como estamos trabajando con observaciones ordenadas en el tiempo, ponemos\n",
    "    # shuffle=False para evitar data leakage\n",
    "    X_train, X_test, y_train, y_test = train_test_split(X, y, shuffle=True)\n",
    "    linreg = LinearRegression()\n",
    "    linreg.fit(X_train, y_train)\n",
    "    y_pred = linreg.predict(X_test)\n",
    "    return  print('MAE:', metrics.mean_absolute_error(y_test, y_pred),\n",
    "    print('MSE:', metrics.mean_squared_error(y_test, y_pred),\n",
    "    print('RMSE:', np.sqrt(metrics.mean_squared_error(y_test, y_pred)),\n",
    "    print('R2:', metrics.r2_score(y_test, y_pred)))))"
   ]
  },
  {
   "cell_type": "code",
   "execution_count": 6,
   "id": "ef6c0b1c",
   "metadata": {},
   "outputs": [
    {
     "name": "stdout",
     "output_type": "stream",
     "text": [
      "R2: 0.0028472173576031823\n",
      "RMSE: 771.2421597934635 None\n",
      "MSE: 594814.4690428864 None\n",
      "MAE: 599.391806513355 None\n"
     ]
    }
   ],
   "source": [
    "train_test_rmse(['surface_total_in_m2'])"
   ]
  },
  {
   "cell_type": "code",
   "execution_count": 7,
   "id": "092e0ddb",
   "metadata": {},
   "outputs": [
    {
     "data": {
      "text/plain": [
       "1917"
      ]
     },
     "execution_count": 7,
     "metadata": {},
     "output_type": "execute_result"
    }
   ],
   "source": [
    "data.rooms.isnull().sum()"
   ]
  },
  {
   "cell_type": "code",
   "execution_count": 8,
   "id": "481f455e",
   "metadata": {},
   "outputs": [],
   "source": [
    "data.dropna(axis=0,subset=['distancia'],inplace=True)"
   ]
  },
  {
   "cell_type": "code",
   "execution_count": 9,
   "id": "9051ce7c",
   "metadata": {},
   "outputs": [],
   "source": [
    "import statsmodels.api as sm"
   ]
  },
  {
   "cell_type": "code",
   "execution_count": 10,
   "id": "ebaf3c7c",
   "metadata": {},
   "outputs": [
    {
     "name": "stdout",
     "output_type": "stream",
     "text": [
      "                            OLS Regression Results                            \n",
      "==============================================================================\n",
      "Dep. Variable:       price_usd_per_m2   R-squared:                       0.001\n",
      "Model:                            OLS   Adj. R-squared:                  0.001\n",
      "Method:                 Least Squares   F-statistic:                     6.958\n",
      "Date:                Tue, 17 Jan 2023   Prob (F-statistic):            0.00837\n",
      "Time:                        23:55:49   Log-Likelihood:                -37761.\n",
      "No. Observations:                4679   AIC:                         7.553e+04\n",
      "Df Residuals:                    4677   BIC:                         7.554e+04\n",
      "Df Model:                           1                                         \n",
      "Covariance Type:            nonrobust                                         \n",
      "=======================================================================================\n",
      "                          coef    std err          t      P>|t|      [0.025      0.975]\n",
      "---------------------------------------------------------------------------------------\n",
      "const                3030.3677     18.293    165.658      0.000    2994.505    3066.230\n",
      "surface_total_in_m2     0.3889      0.147      2.638      0.008       0.100       0.678\n",
      "==============================================================================\n",
      "Omnibus:                      265.150   Durbin-Watson:                   1.639\n",
      "Prob(Omnibus):                  0.000   Jarque-Bera (JB):              318.874\n",
      "Skew:                           0.582   Prob(JB):                     5.72e-70\n",
      "Kurtosis:                       3.528   Cond. No.                         201.\n",
      "==============================================================================\n",
      "\n",
      "Notes:\n",
      "[1] Standard Errors assume that the covariance matrix of the errors is correctly specified.\n"
     ]
    }
   ],
   "source": [
    "feature_cols = ['surface_total_in_m2']\n",
    "\n",
    "X = data[feature_cols]\n",
    "\n",
    "y = data.price_usd_per_m2\n",
    "\n",
    "X = sm.add_constant(X)\n",
    "\n",
    "model = sm.OLS(y, X).fit()\n",
    "print(model.summary())\n",
    "\n",
    "##"
   ]
  },
  {
   "cell_type": "code",
   "execution_count": 11,
   "id": "d60a431f",
   "metadata": {},
   "outputs": [
    {
     "name": "stdout",
     "output_type": "stream",
     "text": [
      "                            OLS Regression Results                            \n",
      "==============================================================================\n",
      "Dep. Variable:       price_usd_per_m2   R-squared:                       0.005\n",
      "Model:                            OLS   Adj. R-squared:                  0.004\n",
      "Method:                 Least Squares   F-statistic:                     21.59\n",
      "Date:                Tue, 17 Jan 2023   Prob (F-statistic):           3.47e-06\n",
      "Time:                        23:55:49   Log-Likelihood:                -37754.\n",
      "No. Observations:                4679   AIC:                         7.551e+04\n",
      "Df Residuals:                    4677   BIC:                         7.552e+04\n",
      "Df Model:                           1                                         \n",
      "Covariance Type:            nonrobust                                         \n",
      "==============================================================================\n",
      "                 coef    std err          t      P>|t|      [0.025      0.975]\n",
      "------------------------------------------------------------------------------\n",
      "const       3160.0096     22.746    138.926      0.000    3115.417    3204.602\n",
      "distancia    -17.5260      3.772     -4.646      0.000     -24.921     -10.131\n",
      "==============================================================================\n",
      "Omnibus:                      274.852   Durbin-Watson:                   1.639\n",
      "Prob(Omnibus):                  0.000   Jarque-Bera (JB):              332.091\n",
      "Skew:                           0.595   Prob(JB):                     7.72e-73\n",
      "Kurtosis:                       3.535   Cond. No.                         12.4\n",
      "==============================================================================\n",
      "\n",
      "Notes:\n",
      "[1] Standard Errors assume that the covariance matrix of the errors is correctly specified.\n"
     ]
    }
   ],
   "source": [
    "feature_cols = ['distancia']\n",
    "\n",
    "X = data[feature_cols]\n",
    "\n",
    "y = data.price_usd_per_m2\n",
    "\n",
    "X = sm.add_constant(X)\n",
    "\n",
    "model = sm.OLS(y, X).fit()\n",
    "print(model.summary())\n",
    "\n",
    "##"
   ]
  },
  {
   "cell_type": "code",
   "execution_count": 12,
   "id": "f8f5446d",
   "metadata": {},
   "outputs": [
    {
     "name": "stdout",
     "output_type": "stream",
     "text": [
      "                            OLS Regression Results                            \n",
      "==============================================================================\n",
      "Dep. Variable:       price_usd_per_m2   R-squared:                       0.322\n",
      "Model:                            OLS   Adj. R-squared:                  0.319\n",
      "Method:                 Least Squares   F-statistic:                     116.4\n",
      "Date:                Tue, 17 Jan 2023   Prob (F-statistic):               0.00\n",
      "Time:                        23:55:49   Log-Likelihood:                -36855.\n",
      "No. Observations:                4679   AIC:                         7.375e+04\n",
      "Df Residuals:                    4659   BIC:                         7.388e+04\n",
      "Df Model:                          19                                         \n",
      "Covariance Type:            nonrobust                                         \n",
      "=======================================================================================\n",
      "                          coef    std err          t      P>|t|      [0.025      0.975]\n",
      "---------------------------------------------------------------------------------------\n",
      "const                2.191e+06   2.15e+05     10.189      0.000    1.77e+06    2.61e+06\n",
      "surface_total_in_m2    -0.8861      0.140     -6.333      0.000      -1.160      -0.612\n",
      "distancia              26.1097     36.092      0.723      0.469     -44.648      96.868\n",
      "lat                  2.764e+04   1395.137     19.811      0.000    2.49e+04    3.04e+04\n",
      "lon                   2.11e+04   3529.659      5.978      0.000    1.42e+04     2.8e+04\n",
      "avenida               -84.6606     21.937     -3.859      0.000    -127.668     -41.653\n",
      "balcon                 76.3516     19.983      3.821      0.000      37.175     115.529\n",
      "gimnasio              488.9038     33.085     14.777      0.000     424.042     553.766\n",
      "SUM                   -14.3953     30.620     -0.470      0.638     -74.424      45.633\n",
      "cochera               306.6326     21.742     14.103      0.000     264.009     349.257\n",
      "parrilla              -41.2575     27.472     -1.502      0.133     -95.115      12.600\n",
      "pileta                480.0642     30.441     15.770      0.000     420.385     539.743\n",
      "patio                -250.0674     26.160     -9.559      0.000    -301.354    -198.781\n",
      "terraza              -150.7855     23.277     -6.478      0.000    -196.419    -105.153\n",
      "lavadero               -4.8229     21.328     -0.226      0.821     -46.637      36.991\n",
      "Belgrano               91.1666     68.393      1.333      0.183     -42.917     225.250\n",
      "Palermo               223.0915     39.702      5.619      0.000     145.257     300.926\n",
      "Nuñez                -182.3040     93.027     -1.960      0.050    -364.681       0.073\n",
      "Palermo Hollywood     366.8664     64.245      5.710      0.000     240.916     492.817\n",
      "Recoleta              177.6984     33.108      5.367      0.000     112.792     242.605\n",
      "==============================================================================\n",
      "Omnibus:                      335.384   Durbin-Watson:                   1.694\n",
      "Prob(Omnibus):                  0.000   Jarque-Bera (JB):              544.377\n",
      "Skew:                           0.555   Prob(JB):                    6.17e-119\n",
      "Kurtosis:                       4.249   Cond. No.                     3.14e+06\n",
      "==============================================================================\n",
      "\n",
      "Notes:\n",
      "[1] Standard Errors assume that the covariance matrix of the errors is correctly specified.\n",
      "[2] The condition number is large, 3.14e+06. This might indicate that there are\n",
      "strong multicollinearity or other numerical problems.\n"
     ]
    }
   ],
   "source": [
    "feature_cols = ['surface_total_in_m2','distancia','lat','lon','avenida','balcon','gimnasio','SUM','cochera','parrilla','pileta','patio','terraza','lavadero','Belgrano','Palermo','Nuñez','Palermo Hollywood','Recoleta']\n",
    "\n",
    "X = data[feature_cols]\n",
    "\n",
    "y = data.price_usd_per_m2\n",
    "\n",
    "X = sm.add_constant(X)\n",
    "\n",
    "model = sm.OLS(y, X).fit()\n",
    "print(model.summary())\n",
    "\n",
    "##"
   ]
  },
  {
   "cell_type": "code",
   "execution_count": 13,
   "id": "08af4040",
   "metadata": {},
   "outputs": [
    {
     "name": "stdout",
     "output_type": "stream",
     "text": [
      "MAE: 489.8852264102154\n",
      "MSE: 419435.94627862435\n",
      "RMSE: 647.6387467397425\n",
      "R2: 0.29556742688908755\n"
     ]
    }
   ],
   "source": [
    "# Definimos una función que acepta una lista de features, hace el split entre train y test,\n",
    "# reservando un 25% de las observaciones para testeo, y devuelve la prueba RMSE.\n",
    "\n",
    "feature_cols = ['surface_total_in_m2','distancia','lat','lon','avenida','balcon','gimnasio','SUM','cochera','parrilla','pileta','patio','terraza','lavadero','Belgrano','Palermo','Nuñez','Palermo Hollywood','Recoleta']\n",
    "X = data[feature_cols]\n",
    "y = data.price_usd_per_m2\n",
    "    # Como estamos trabajando con observaciones ordenadas en el tiempo, ponemos\n",
    "    # shuffle=False para evitar data leakage\n",
    "X_train, X_test, y_train, y_test = train_test_split(X, y, shuffle=True)\n",
    "linreg = LinearRegression()\n",
    "linreg.fit(X_train, y_train)\n",
    "y_pred = linreg.predict(X_test)\n",
    "print('MAE:', metrics.mean_absolute_error(y_test, y_pred))\n",
    "print('MSE:', metrics.mean_squared_error(y_test, y_pred))\n",
    "print('RMSE:', np.sqrt(metrics.mean_squared_error(y_test, y_pred)))\n",
    "print('R2:', metrics.r2_score(y_test, y_pred))"
   ]
  },
  {
   "cell_type": "code",
   "execution_count": 14,
   "id": "d9cc1558",
   "metadata": {},
   "outputs": [
    {
     "name": "stdout",
     "output_type": "stream",
     "text": [
      "Score model_2: 0.282347085837903\n"
     ]
    }
   ],
   "source": [
    "# Ajustamos el modelo usando solamente las variables cuantitativas aplicando regularización\n",
    "#¿Hace falta normalizar los features antes aplicar regularización en este caso? ¿Qué unidades tienen los features?\n",
    "from sklearn.linear_model import RidgeCV\n",
    "\n",
    "# Definimos el rango de de búsqueda del hiperparametro explicitamente\n",
    "lm_ridge = RidgeCV(alphas=[0.1, 1, 10], normalize=True)\n",
    "\n",
    "model_2 = lm_ridge.fit(X_train, y_train)\n",
    "\n",
    "print('Score model_2:', model_2.score(X_test, y_test))\n",
    "\n",
    "# ¿Mejoraron los resultados?"
   ]
  }
 ],
 "metadata": {
  "kernelspec": {
   "display_name": "dhdsblend2021",
   "language": "python",
   "name": "python3"
  },
  "language_info": {
   "codemirror_mode": {
    "name": "ipython",
    "version": 3
   },
   "file_extension": ".py",
   "mimetype": "text/x-python",
   "name": "python",
   "nbconvert_exporter": "python",
   "pygments_lexer": "ipython3",
   "version": "3.8.13"
  },
  "vscode": {
   "interpreter": {
    "hash": "d0c48e0326c6c4056e4b4eb85894922d97351fe3ceca175dabbe7210b9ffcd7d"
   }
  }
 },
 "nbformat": 4,
 "nbformat_minor": 5
}
